{
 "cells": [
  {
   "cell_type": "code",
   "execution_count": 4,
   "metadata": {},
   "outputs": [],
   "source": [
    "import pandas as pd\n",
    "nutridb = pd.read_csv('C:/userapp/nutridb.csv', encoding='cp949')\n",
    "nutridb['지방(min)'] = nutridb['지방 (g)'].str.split('-').str[0]\n",
    "nutridb['지방(max)'] = nutridb['지방 (g)'].str.split('-').str[1]\n",
    "nutridb['단백질(min)'] = nutridb['단백질 (g)'].str.split('-').str[0]\n",
    "nutridb['단백질(max)'] = nutridb['단백질 (g)'].str.split('-').str[1]\n",
    "nutridb['탄수화물(min)'] = nutridb['탄수화물 (g)'].str.split('-').str[0]\n",
    "nutridb['탄수화물(max)'] = nutridb['탄수화물 (g)'].str.split('-').str[1]\n",
    "nutridb['칼로리(min)'] = nutridb['칼로리 (kcal)'].str.split('-').str[0]\n",
    "nutridb['칼로리(max)'] = nutridb['칼로리 (kcal)'].str.split('-').str[1]\n",
    "nutridb['나이(min)'] = nutridb['나이 범위'].str.split('-').str[0]\n",
    "nutridb['나이(max)'] = nutridb['나이 범위'].str.split('-').str[1]\n",
    "nutridb['나이(min)'] = nutridb['나이(min)'].str.split('세').str[0]\n",
    "nutridb['나이(max)'] = nutridb['나이(max)'].fillna('100')\n",
    "nutridb['나이(max)'] = nutridb['나이(max)'].str.split('세').str[0]\n",
    "nutridb.drop(columns=['지방 (g)', '단백질 (g)','탄수화물 (g)','칼로리 (kcal)','나이 범위'],inplace=True)\n",
    "nutridb.to_csv('nutridb_ver.csv',index=False,encoding='utf-8')"
   ]
  }
 ],
 "metadata": {
  "kernelspec": {
   "display_name": "mommy",
   "language": "python",
   "name": "python3"
  },
  "language_info": {
   "codemirror_mode": {
    "name": "ipython",
    "version": 3
   },
   "file_extension": ".py",
   "mimetype": "text/x-python",
   "name": "python",
   "nbconvert_exporter": "python",
   "pygments_lexer": "ipython3",
   "version": "3.9.16"
  },
  "orig_nbformat": 4
 },
 "nbformat": 4,
 "nbformat_minor": 2
}
